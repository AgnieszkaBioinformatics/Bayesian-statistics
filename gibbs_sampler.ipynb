{
 "cells": [
  {
   "cell_type": "code",
   "execution_count": 1,
   "metadata": {},
   "outputs": [],
   "source": [
    "import numpy as np"
   ]
  },
  {
   "cell_type": "code",
   "execution_count": 2,
   "metadata": {},
   "outputs": [],
   "source": [
    "# Local Probability Distributions (LPDs) from the Bayesian Network\n",
    "P_E = {True: 0.5, False: 0.5}  # P(E)\n",
    "P_F_given_E = {True: {True: 0.1, False: 0.9}, False: {True: 0.5, False: 0.5}}  # P(F | E)\n",
    "P_J_given_E = {True: {True: 0.8, False: 0.2}, False: {True: 0.1, False: 0.9}}  # P(J | E)\n",
    "P_M_given_F_J = {\n",
    "    (True, True): 0.95,\n",
    "    (True, False): 0.9,\n",
    "    (False, True): 0.9,\n",
    "    (False, False): 0.1,\n",
    "}  # P(M | F, J)"
   ]
  },
  {
   "cell_type": "code",
   "execution_count": null,
   "metadata": {},
   "outputs": [],
   "source": [
    "# Gibbs sampler \n",
    "num_samples = 100\n",
    "samples = []\n",
    "\n",
    "F = np.random.choice([True, False])\n",
    "E = np.random.choice([True, False])\n",
    "\n",
    "for _ in range(num_samples):\n",
    "    # Sample E\n",
    "    P_E_given_F_J_M = {\n",
    "        True: P_E[True] * P_J_given_E[True][True] * P_F_given_E[True][F],\n",
    "        False: P_E[False] * P_J_given_E[False][True] * P_F_given_E[False][F],\n",
    "    }\n",
    "\n",
    "    # Normalize\n",
    "    total_E = sum(P_E_given_F_J_M.values())\n",
    "    P_E_given_F_J_M = {k: v / total_E for k, v in P_E_given_F_J_M.items()}\n",
    "\n",
    "    # New E\n",
    "    E = np.random.choice([True, False], p=[P_E_given_F_J_M[True], P_E_given_F_J_M[False]])\n",
    "\n",
    "    # Sample F\n",
    "    P_F_given_E_J_M = {\n",
    "        True: P_F_given_E[E][True] * P_M_given_F_J[(True, J)],\n",
    "        False: P_F_given_E[E][False] * P_M_given_F_J[(False, J)],\n",
    "    }\n",
    "\n",
    "    # Normalize\n",
    "    total_F = sum(P_F_given_E_J_M.values())\n",
    "    P_F_given_E_J_M = {k: v / total_F for k, v in P_F_given_E_J_M.items()}\n",
    "\n",
    "    # New F\n",
    "    F = np.random.choice([True, False], p=[P_F_given_E_J_M[True], P_F_given_E_J_M[False]])\n",
    "\n",
    "    # store the samples\n",
    "    samples.append((F,E))\n",
    "\n",
    "\n"
   ]
  }
 ],
 "metadata": {
  "kernelspec": {
   "display_name": "Python 3",
   "language": "python",
   "name": "python3"
  },
  "language_info": {
   "codemirror_mode": {
    "name": "ipython",
    "version": 3
   },
   "file_extension": ".py",
   "mimetype": "text/x-python",
   "name": "python",
   "nbconvert_exporter": "python",
   "pygments_lexer": "ipython3",
   "version": "3.10.10"
  }
 },
 "nbformat": 4,
 "nbformat_minor": 2
}
